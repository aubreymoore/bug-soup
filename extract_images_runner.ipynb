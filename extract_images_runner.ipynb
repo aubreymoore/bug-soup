{
 "cells": [
  {
   "cell_type": "markdown",
   "id": "27b9d40c-b853-4e96-ae6a-ff1a73742db8",
   "metadata": {},
   "source": [
    "# extract_images_runner\n",
    "\n",
    "This notebook runs **extract_images** using **papermill**.\n",
    "\n",
    "papermill -p IMAGE_PATH 2021-11-24/PB240063.JPG extract_images.ipynb out.ipynb"
   ]
  },
  {
   "cell_type": "code",
   "execution_count": 1,
   "id": "459477a8-17e3-4fff-9db7-74942a793b14",
   "metadata": {},
   "outputs": [],
   "source": [
    "import glob\n",
    "import os"
   ]
  },
  {
   "cell_type": "code",
   "execution_count": 2,
   "id": "63a7487f-5af8-42b4-ba77-7e6dce111d66",
   "metadata": {},
   "outputs": [],
   "source": [
    "for filename in glob.glob('2021-12-01/*.JPG'):\n",
    "    os.system(f'papermill -p IMAGE_PATH {filename} extract_images.ipynb out.ipynb')"
   ]
  }
 ],
 "metadata": {
  "kernelspec": {
   "display_name": "Python 3",
   "language": "python",
   "name": "python3"
  },
  "language_info": {
   "codemirror_mode": {
    "name": "ipython",
    "version": 3
   },
   "file_extension": ".py",
   "mimetype": "text/x-python",
   "name": "python",
   "nbconvert_exporter": "python",
   "pygments_lexer": "ipython3",
   "version": "3.8.10"
  }
 },
 "nbformat": 4,
 "nbformat_minor": 5
}
