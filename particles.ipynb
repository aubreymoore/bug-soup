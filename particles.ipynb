{
 "cells": [
  {
   "cell_type": "code",
   "execution_count": 1,
   "metadata": {
    "collapsed": false,
    "jupyter": {
     "outputs_hidden": false
    }
   },
   "outputs": [],
   "source": [
    "%matplotlib inline"
   ]
  },
  {
   "cell_type": "markdown",
   "metadata": {},
   "source": [
    "\n",
    "# Label image regions\n",
    "\n",
    "This example shows how to segment an image with image labelling. The following\n",
    "steps are applied:\n",
    "\n",
    "1. Thresholding with automatic Otsu method\n",
    "2. Close small holes with binary closing\n",
    "3. Remove artifacts touching image border\n",
    "4. Measure image regions to filter small objects\n"
   ]
  },
  {
   "cell_type": "code",
   "execution_count": 2,
   "metadata": {
    "collapsed": false,
    "jupyter": {
     "outputs_hidden": false
    }
   },
   "outputs": [
    {
     "ename": "ModuleNotFoundError",
     "evalue": "No module named 'plotly'",
     "output_type": "error",
     "traceback": [
      "\u001b[0;31m---------------------------------------------------------------------------\u001b[0m",
      "\u001b[0;31mModuleNotFoundError\u001b[0m                       Traceback (most recent call last)",
      "\u001b[0;32m<ipython-input-2-a025ce982c51>\u001b[0m in \u001b[0;36m<module>\u001b[0;34m\u001b[0m\n\u001b[0;32m----> 1\u001b[0;31m \u001b[0;32mimport\u001b[0m \u001b[0mplotly\u001b[0m\u001b[0;34m.\u001b[0m\u001b[0mexpress\u001b[0m \u001b[0;32mas\u001b[0m \u001b[0mpx\u001b[0m\u001b[0;34m\u001b[0m\u001b[0;34m\u001b[0m\u001b[0m\n\u001b[0m\u001b[1;32m      2\u001b[0m \u001b[0;32mimport\u001b[0m \u001b[0mmatplotlib\u001b[0m\u001b[0;34m.\u001b[0m\u001b[0mpyplot\u001b[0m \u001b[0;32mas\u001b[0m \u001b[0mplt\u001b[0m\u001b[0;34m\u001b[0m\u001b[0;34m\u001b[0m\u001b[0m\n\u001b[1;32m      3\u001b[0m \u001b[0;32mimport\u001b[0m \u001b[0mmatplotlib\u001b[0m\u001b[0;34m.\u001b[0m\u001b[0mpatches\u001b[0m \u001b[0;32mas\u001b[0m \u001b[0mmpatches\u001b[0m\u001b[0;34m\u001b[0m\u001b[0;34m\u001b[0m\u001b[0m\n\u001b[1;32m      4\u001b[0m \u001b[0;34m\u001b[0m\u001b[0m\n\u001b[1;32m      5\u001b[0m \u001b[0;32mfrom\u001b[0m \u001b[0mskimage\u001b[0m \u001b[0;32mimport\u001b[0m \u001b[0mdata\u001b[0m\u001b[0;34m\u001b[0m\u001b[0;34m\u001b[0m\u001b[0m\n",
      "\u001b[0;31mModuleNotFoundError\u001b[0m: No module named 'plotly'"
     ]
    }
   ],
   "source": [
    "import plotly.express as px\n",
    "import matplotlib.pyplot as plt\n",
    "import matplotlib.patches as mpatches\n",
    "\n",
    "from skimage import data\n",
    "from skimage.filters import threshold_otsu\n",
    "from skimage.segmentation import clear_border\n",
    "from skimage.measure import label, regionprops\n",
    "from skimage.morphology import closing, square\n",
    "from skimage.color import label2rgb\n",
    "from skimage.io import imread\n",
    "\n",
    "image = imread('P5150004.JPG', as_gray=True)\n",
    "\n",
    "# apply threshold\n",
    "thresh = threshold_otsu(image)\n",
    "bw = closing(image < thresh, square(3))\n",
    "\n",
    "# remove artifacts connected to image border\n",
    "cleared = clear_border(bw)\n",
    "\n",
    "# label image regions\n",
    "label_image = label(cleared)\n",
    "# to make the background transparent, pass the value of `bg_label`,\n",
    "# and leave `bg_color` as `None` and `kind` as `overlay`\n",
    "image_label_overlay = label2rgb(label_image, image=image, bg_label=0)\n",
    "\n",
    "# fig, ax = plt.subplots(figsize=(10, 6))\n",
    "# ax.imshow(image_label_overlay)\n",
    "\n",
    "# for region in regionprops(label_image):\n",
    "#     # take regions with large enough areas\n",
    "#     if region.area >= 100:\n",
    "#         # draw rectangle around segmented coins\n",
    "#         minr, minc, maxr, maxc = region.bbox\n",
    "#         rect = mpatches.Rectangle((minc, minr), maxc - minc, maxr - minr,\n",
    "#                                   fill=False, edgecolor='red', linewidth=2)\n",
    "#         ax.add_patch(rect)\n",
    "\n",
    "# ax.set_axis_off()\n",
    "# plt.tight_layout()\n",
    "# plt.show()\n",
    "\n",
    "fig = px.imshow(image_label_overlay)\n",
    "fig.show()"
   ]
  },
  {
   "cell_type": "code",
   "execution_count": null,
   "metadata": {},
   "outputs": [],
   "source": []
  }
 ],
 "metadata": {
  "kernelspec": {
   "display_name": "Python 3",
   "language": "python",
   "name": "python3"
  },
  "language_info": {
   "codemirror_mode": {
    "name": "ipython",
    "version": 3
   },
   "file_extension": ".py",
   "mimetype": "text/x-python",
   "name": "python",
   "nbconvert_exporter": "python",
   "pygments_lexer": "ipython3",
   "version": "3.8.8"
  }
 },
 "nbformat": 4,
 "nbformat_minor": 4
}
