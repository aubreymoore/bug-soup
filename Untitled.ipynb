{
 "cells": [
  {
   "cell_type": "markdown",
   "id": "404fee83-7998-454e-a2e8-da442aa02892",
   "metadata": {
    "tags": []
   },
   "source": [
    "Run this notebook using the **Python 3** kernel.\n",
    "\n",
    "First, we use **imagej particle analysis** to segment the image. Although te following macro is extremely simple, I could not get it to work reliably.\n",
    "\n",
    "**pa.ijm**\n",
    "```\n",
    "run(\"Color Threshold...\");\n",
    "run(\"Analyze Particles...\", \"size=100-Infinity\");\n",
    "saveAs(\"Results\", \"/home/aubrey/Desktop/bug_soup/Results.csv\");\n",
    "```"
   ]
  },
  {
   "cell_type": "code",
   "execution_count": 1,
   "id": "21129494-710b-46be-ac44-99a84eb4226b",
   "metadata": {},
   "outputs": [],
   "source": [
    "import pandas as pd\n",
    "import cv2"
   ]
  },
  {
   "cell_type": "code",
   "execution_count": 2,
   "id": "e244ee8b-caa5-4372-b41c-6d022bbb693c",
   "metadata": {},
   "outputs": [],
   "source": [
    "df = pd.read_csv('GroovyResults.csv')"
   ]
  },
  {
   "cell_type": "code",
   "execution_count": 3,
   "id": "ee63dc84-f935-4e3f-97cb-cb131f2f76fa",
   "metadata": {},
   "outputs": [
    {
     "name": "stdout",
     "output_type": "stream",
     "text": [
      "code\t  groovy.ijm\t     P5150040.JPG\t\tplot_label-Copy1.ipynb\n",
      "data\t  GroovyResults.csv  pa.ijm\t\t\tsunday.ijm\n",
      "docs\t  P5150002.JPG\t     ParticleAnalyzerTest1.txt\tsundayMacro.ijm\n",
      "fun.ijm   P5150004.JPG\t     ParticleAnalyzerTest.txt\tUntitled.ipynb\n",
      "funk.ijm  P5150038.JPG\t     particles.ipynb\n"
     ]
    }
   ],
   "source": [
    "!ls"
   ]
  },
  {
   "cell_type": "code",
   "execution_count": null,
   "id": "4c617e1e-0605-4ea1-b80b-5ae88f53c1de",
   "metadata": {
    "tags": []
   },
   "outputs": [],
   "source": [
    "image = cv2.imread('P5150004.JPG')\n",
    "cv2.imshow('image', image)\n",
    "cv2.waitKey(0)\n",
    "cv2.destroyAllWindows()"
   ]
  },
  {
   "cell_type": "code",
   "execution_count": 7,
   "id": "5445f8f2-a933-4c17-8685-0d475dc08195",
   "metadata": {},
   "outputs": [
    {
     "name": "stdout",
     "output_type": "stream",
     "text": [
      "2512 0 32 47\n",
      "0 0 4000 3000\n",
      "2402 32 14 20\n",
      "2520 77 18 21\n",
      "2774 142 22 30\n",
      "2110 159 30 16\n",
      "2709 162 62 45\n",
      "2590 170 35 21\n",
      "1667 296 30 27\n",
      "2983 324 14 24\n",
      "2420 425 34 23\n",
      "1193 513 50 54\n",
      "2888 527 60 58\n",
      "1992 714 67 88\n",
      "2987 741 30 27\n",
      "3009 763 15 13\n",
      "3220 795 26 19\n",
      "3191 800 19 12\n",
      "3201 805 18 19\n",
      "3182 814 27 27\n",
      "2767 817 41 49\n",
      "2030 881 11 19\n",
      "3102 966 34 23\n",
      "2550 974 67 63\n",
      "2413 981 19 19\n",
      "2344 1015 33 69\n",
      "3157 1015 17 44\n",
      "2967 1021 17 18\n",
      "3226 1038 16 21\n",
      "3057 1067 21 16\n",
      "3141 1070 17 20\n",
      "3175 1110 19 22\n",
      "1938 1168 405 533\n",
      "3088 1184 30 40\n",
      "3072 1193 21 17\n",
      "3110 1207 29 17\n",
      "3045 1214 34 26\n",
      "3106 1220 24 19\n",
      "3093 1233 26 36\n",
      "3015 1245 17 21\n",
      "3078 1248 27 41\n",
      "3120 1248 16 23\n",
      "1744 1254 15 11\n",
      "2485 1262 15 17\n",
      "3029 1262 18 17\n",
      "3040 1265 19 28\n",
      "3006 1275 19 35\n",
      "3063 1275 22 23\n",
      "2590 1279 37 30\n",
      "1017 1285 43 22\n",
      "3034 1291 21 31\n",
      "1947 1293 19 10\n",
      "2984 1325 16 28\n",
      "2354 1328 90 108\n",
      "2985 1349 13 23\n",
      "2317 1350 16 16\n",
      "2327 1367 10 18\n",
      "2953 1374 23 22\n",
      "2771 1378 63 79\n",
      "1528 1521 183 168\n",
      "2926 1533 21 16\n",
      "2555 1539 34 24\n",
      "2556 1573 30 26\n",
      "2564 1603 25 21\n",
      "2902 1613 38 28\n",
      "2850 1680 19 17\n",
      "1797 1714 140 158\n",
      "1256 1715 18 12\n",
      "2254 1769 43 30\n",
      "2798 1802 42 54\n",
      "2837 1807 27 21\n",
      "1525 1826 179 103\n",
      "2030 1831 56 34\n",
      "531 1865 15 14\n",
      "2809 1874 20 16\n",
      "1358 1886 142 87\n",
      "2780 1895 32 30\n",
      "2762 1896 21 13\n",
      "2746 1903 18 16\n",
      "2757 1908 41 60\n",
      "2680 1936 24 36\n",
      "2702 1959 44 33\n",
      "1539 1967 108 73\n",
      "2677 1971 25 25\n",
      "2635 1988 54 55\n",
      "2194 1995 12 13\n",
      "2686 2020 19 16\n",
      "1513 2025 18 45\n",
      "2583 2051 25 13\n",
      "2548 2115 29 13\n",
      "2445 2196 28 22\n",
      "2467 2213 10 31\n",
      "1056 2242 14 14\n",
      "2533 2265 35 27\n",
      "2503 2296 24 21\n",
      "993 2298 51 66\n",
      "1706 2313 168 180\n",
      "2467 2315 16 23\n",
      "563 2347 101 83\n",
      "1925 2363 38 56\n",
      "434 2388 355 288\n",
      "815 2388 21 16\n",
      "2631 2434 22 21\n",
      "2460 2447 14 32\n",
      "2602 2449 46 29\n",
      "2521 2453 17 22\n",
      "2580 2463 18 24\n",
      "2415 2480 28 27\n",
      "2510 2489 19 21\n",
      "2175 2500 70 68\n",
      "329 2526 27 37\n",
      "1782 2526 14 17\n",
      "1931 2533 24 20\n",
      "2305 2549 17 18\n",
      "2273 2555 17 14\n",
      "358 2564 17 14\n",
      "392 2582 12 24\n",
      "2011 2596 10 14\n",
      "808 2610 77 88\n",
      "400 2636 29 29\n",
      "2066 2644 20 30\n",
      "1998 2677 25 28\n",
      "478 2687 23 19\n",
      "1933 2697 23 30\n",
      "1907 2741 29 17\n",
      "1833 2764 19 23\n",
      "1678 2792 18 16\n",
      "1583 2816 14 16\n",
      "1182 2890 31 34\n"
     ]
    }
   ],
   "source": [
    "for row in df.itertuples():\n",
    "    print(row.BX, row.BY, row.Width, row.Height)"
   ]
  },
  {
   "cell_type": "code",
   "execution_count": null,
   "id": "50f1b55a-5031-4ec1-801c-551926c077cd",
   "metadata": {},
   "outputs": [],
   "source": []
  }
 ],
 "metadata": {
  "kernelspec": {
   "display_name": "Python 3",
   "language": "python",
   "name": "python3"
  },
  "language_info": {
   "codemirror_mode": {
    "name": "ipython",
    "version": 3
   },
   "file_extension": ".py",
   "mimetype": "text/x-python",
   "name": "python",
   "nbconvert_exporter": "python",
   "pygments_lexer": "ipython3",
   "version": "3.8.8"
  }
 },
 "nbformat": 4,
 "nbformat_minor": 5
}
